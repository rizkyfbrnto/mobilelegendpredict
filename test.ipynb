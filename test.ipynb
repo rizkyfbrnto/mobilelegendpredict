{
 "cells": [
  {
   "cell_type": "code",
   "execution_count": 13,
   "metadata": {},
   "outputs": [
    {
     "name": "stdout",
     "output_type": "stream",
     "text": [
      "Model Accuracy: 63.88%\n"
     ]
    }
   ],
   "source": [
    "import pandas as pd\n",
    "\n",
    "# Load datasets with corrected paths using raw string\n",
    "cleaned_hero_data = pd.read_csv(r'D:/mobile_legends_prediction/data/cleaned_hero_data.csv')\n",
    "corrected_heroes_cleaned = pd.read_csv(r'D:/mobile_legends_prediction/data/corrected_heroes_cleaned.csv')\n",
    "\n",
    "# Ensure the 'Match Result' column exists\n",
    "if 'Match Result' not in cleaned_hero_data.columns:\n",
    "    print(\"Error: 'Match Result' column not found in cleaned_hero_data\")\n",
    "else:\n",
    "    # Convert specific columns to numeric values\n",
    "    def convert_to_numeric(df, columns):\n",
    "        for column in columns:\n",
    "            df[column] = pd.to_numeric(df[column], errors='coerce')\n",
    "        return df\n",
    "\n",
    "    # Convert columns to numeric\n",
    "    columns_to_convert = ['Winrate', 'Durability', 'Offense', 'Ability Effects', 'Difficulity']\n",
    "    corrected_heroes_cleaned = convert_to_numeric(corrected_heroes_cleaned, columns_to_convert)\n",
    "\n",
    "    # Calculate team features\n",
    "    def calculate_team_features(row):\n",
    "        features = {'Winrate': 0, 'Durability': 0, 'Offense': 0, 'Ability Effects': 0, 'Difficulity': 0}\n",
    "        heroes = ['Hero_1', 'Hero_2', 'Hero_3', 'Hero_4', 'Hero_5']\n",
    "        valid_heroes_count = 0\n",
    "        for hero in heroes:\n",
    "            hero_name = row[hero]\n",
    "            hero_data = corrected_heroes_cleaned[corrected_heroes_cleaned['Hero'] == hero_name]\n",
    "            if not hero_data.empty:\n",
    "                hero_data = hero_data.iloc[0]\n",
    "                valid_heroes_count += 1\n",
    "                for feature in features:\n",
    "                    if pd.notnull(hero_data[feature]):\n",
    "                        features[feature] += hero_data[feature]\n",
    "        if valid_heroes_count > 0:\n",
    "            for feature in features:\n",
    "                features[feature] /= valid_heroes_count\n",
    "        return pd.Series(features)\n",
    "\n",
    "    team_features = cleaned_hero_data.apply(calculate_team_features, axis=1)\n",
    "\n",
    "    # Prepare data for model training\n",
    "    X = team_features\n",
    "    y = cleaned_hero_data['Match Result'].apply(lambda x: 1 if x == 'Victory' else 0)\n",
    "\n",
    "    # Split data into training and test sets\n",
    "    from sklearn.naive_bayes import GaussianNB\n",
    "    from sklearn.model_selection import train_test_split\n",
    "\n",
    "    X_train, X_test, y_train, y_test = train_test_split(X, y, test_size=0.2, random_state=42)\n",
    "\n",
    "    # Train the Naive Bayes model\n",
    "    model = GaussianNB()\n",
    "    model.fit(X_train, y_train)\n",
    "\n",
    "    # Evaluate model accuracy\n",
    "    accuracy = model.score(X_test, y_test)\n",
    "    print(f'Model Accuracy: {accuracy * 100:.2f}%')\n"
   ]
  },
  {
   "cell_type": "code",
   "execution_count": 14,
   "metadata": {},
   "outputs": [
    {
     "data": {
      "text/plain": [
       "['naive_bayes_model.pkl']"
      ]
     },
     "execution_count": 14,
     "metadata": {},
     "output_type": "execute_result"
    }
   ],
   "source": [
    "import joblib\n",
    "\n",
    "# Save the trained model\n",
    "joblib.dump(model, 'naive_bayes_model.pkl')\n"
   ]
  }
 ],
 "metadata": {
  "kernelspec": {
   "display_name": "Python 3",
   "language": "python",
   "name": "python3"
  },
  "language_info": {
   "codemirror_mode": {
    "name": "ipython",
    "version": 3
   },
   "file_extension": ".py",
   "mimetype": "text/x-python",
   "name": "python",
   "nbconvert_exporter": "python",
   "pygments_lexer": "ipython3",
   "version": "3.12.4"
  }
 },
 "nbformat": 4,
 "nbformat_minor": 2
}
